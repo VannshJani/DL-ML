{
 "cells": [
  {
   "cell_type": "markdown",
   "metadata": {},
   "source": [
    "---\n",
    "title: \"MNIST (one vs REST) Classifier\"\n",
    "author: \"Vannsh Jani\"\n",
    "date: \"10/18/2023\"\n",
    "format: \n",
    "  html:\n",
    "    code-fold: true\n",
    "jupyter: python3\n",
    "---"
   ]
  },
  {
   "cell_type": "markdown",
   "metadata": {},
   "source": [
    "In this blog let's build a MNIST Classifier (one vs REST) where we will classify whether a given image is of the digit 2 or not."
   ]
  },
  {
   "cell_type": "markdown",
   "metadata": {},
   "source": [
    "Let's first import the necessary libraries"
   ]
  },
  {
   "cell_type": "code",
   "execution_count": 1,
   "metadata": {},
   "outputs": [],
   "source": [
    "import numpy as np\n",
    "import matplotlib.pyplot as plt\n",
    "import torch\n",
    "import torch.nn as nn\n",
    "import torch.nn.functional as F\n",
    "from torchvision.datasets import MNIST\n",
    "from sklearn.model_selection import train_test_split\n",
    "from torch.optim import Adam\n",
    "from torch.autograd import Variable"
   ]
  },
  {
   "cell_type": "code",
   "execution_count": 2,
   "metadata": {},
   "outputs": [],
   "source": [
    "# Download MNIST dataset\n",
    "mnist_data = MNIST(root='./data', download=True)\n"
   ]
  },
  {
   "cell_type": "code",
   "execution_count": 3,
   "metadata": {},
   "outputs": [
    {
     "data": {
      "text/plain": [
       "(60000, 28, 28)"
      ]
     },
     "execution_count": 3,
     "metadata": {},
     "output_type": "execute_result"
    }
   ],
   "source": [
    "# 60000 images of size 28x28\n",
    "data = mnist_data.data.numpy()\n",
    "data.shape"
   ]
  },
  {
   "cell_type": "code",
   "execution_count": 4,
   "metadata": {},
   "outputs": [
    {
     "data": {
      "text/plain": [
       "((48000, 28, 28), (48000,), (12000, 28, 28), (12000,))"
      ]
     },
     "execution_count": 4,
     "metadata": {},
     "output_type": "execute_result"
    }
   ],
   "source": [
    "train_image,test_image,train_label,test_label = train_test_split(data, mnist_data.targets.numpy(), test_size=0.2, random_state=42)\n",
    "train_image.shape, train_label.shape, test_image.shape, test_label.shape"
   ]
  },
  {
   "cell_type": "code",
   "execution_count": 5,
   "metadata": {},
   "outputs": [
    {
     "data": {
      "text/plain": [
       "<matplotlib.image.AxesImage at 0x2ac92c2d0>"
      ]
     },
     "execution_count": 5,
     "metadata": {},
     "output_type": "execute_result"
    },
    {
     "data": {
      "image/png": "[encoded data removed]",
      "text/plain": [
       "<Figure size 640x480 with 1 Axes>"
      ]
     },
     "metadata": {},
     "output_type": "display_data"
    }
   ],
   "source": [
    "sample_image = train_image[0]\n",
    "plt.imshow(sample_image, cmap='gray')"
   ]
  },
  {
   "cell_type": "code",
   "execution_count": 6,
   "metadata": {},
   "outputs": [
    {
     "name": "stdout",
     "output_type": "stream",
     "text": [
      "[8 1 1 2 6]\n"
     ]
    },
    {
     "data": {
      "text/plain": [
       "tensor([0., 0., 0., 1., 0.])"
      ]
     },
     "execution_count": 6,
     "metadata": {},
     "output_type": "execute_result"
    }
   ],
   "source": [
    "print(train_label[12:17])\n",
    "# 1 as label for digit 2 and 0 otherwise\n",
    "train_label[train_label!=2] = 0\n",
    "train_label[train_label==2] = 1\n",
    "test_label[test_label!=2] = 0\n",
    "test_label[test_label==2] = 1\n",
    "\n",
    "\n",
    "# Convert to torch tensors\n",
    "train_image = torch.from_numpy(train_image).long()\n",
    "test_image = torch.from_numpy(test_image).long()\n",
    "train_label = torch.from_numpy(train_label).float()\n",
    "test_label = torch.from_numpy(test_label).float()\n",
    "train_label[12:17] "
   ]
  },
  {
   "cell_type": "code",
   "execution_count": 7,
   "metadata": {},
   "outputs": [],
   "source": [
    "train_image = train_image.view(-1, 1,28,28).float()\n",
    "test_image = test_image.view(-1,1,28,28).float()\n",
    "\n",
    "train_image = train_image/255.\n",
    "test_image = test_image/255.\n",
    "\n",
    "train = torch.utils.data.TensorDataset(train_image,train_label)\n",
    "test = torch.utils.data.TensorDataset(test_image,test_label)\n",
    "\n",
    "BATCH_SIZE = 64\n",
    "train_loader = torch.utils.data.DataLoader(train, batch_size = BATCH_SIZE, shuffle = False)\n",
    "test_loader = torch.utils.data.DataLoader(test, batch_size = BATCH_SIZE, shuffle = False)"
   ]
  },
  {
   "cell_type": "code",
   "execution_count": 8,
   "metadata": {},
   "outputs": [],
   "source": [
    "# Define the model\n",
    "class cnn_Model(nn.Module):\n",
    "    def __init__(self):\n",
    "        super(cnn_Model, self).__init__()\n",
    "        self.conv1 = nn.Conv2d(1, 6, 5, padding=2)\n",
    "        self.pool = nn.MaxPool2d(2,stride=2)\n",
    "        self.conv2 = nn.Conv2d(6, 16, 5, padding=0)\n",
    "        self.R = nn.ReLU()\n",
    "        self.fc1 = nn.Linear(400, 120)\n",
    "        self.fc2 = nn.Linear(120, 84)\n",
    "        self.fc3 = nn.Linear(84, 1)\n",
    "        self.S = nn.Sigmoid()\n",
    "        \n",
    "    def forward(self, x):\n",
    "\n",
    "        x = self.conv1(x)\n",
    "        x = self.R(x)\n",
    "        x = self.pool(x)\n",
    "\n",
    "        x = self.conv2(x)\n",
    "        x = self.R(x)\n",
    "        x = self.pool(x)\n",
    "        x = x.view(-1, 400)\n",
    "\n",
    "        x = self.fc1(x)\n",
    "        x = self.R(x)\n",
    "        x = self.fc2(x)\n",
    "        x = self.R(x)\n",
    "        x = self.fc3(x)\n",
    "        # x = self.S(x)\n",
    "       \n",
    "\n",
    "        return x.squeeze()\n",
    "    \n",
    "model = cnn_Model()"
   ]
  },
  {
   "cell_type": "code",
   "execution_count": 9,
   "metadata": {},
   "outputs": [],
   "source": [
    "def accuracy(y_pred,y_true):\n",
    "    y_pred = y_pred.detach().numpy()\n",
    "    y_true = y_true.detach().numpy()\n",
    "    y_pred[y_pred>=0.5] = 1\n",
    "    y_pred[y_pred<0.5] = 0\n",
    "    return y_pred,y_true"
   ]
  },
  {
   "cell_type": "code",
   "execution_count": 10,
   "metadata": {},
   "outputs": [
    {
     "name": "stdout",
     "output_type": "stream",
     "text": [
      "Epoch : 0 [0/48000 (0%)]\tLoss: 0.689121\t Accuracy:92.188%\n",
      "Epoch : 0 [3200/48000 (7%)]\tLoss: 0.309166\t Accuracy:89.951%\n",
      "Epoch : 0 [6400/48000 (13%)]\tLoss: 0.099755\t Accuracy:90.362%\n",
      "Epoch : 0 [9600/48000 (20%)]\tLoss: 0.029480\t Accuracy:91.484%\n",
      "Epoch : 0 [12800/48000 (27%)]\tLoss: 0.109460\t Accuracy:92.942%\n",
      "Epoch : 0 [16000/48000 (33%)]\tLoss: 0.018932\t Accuracy:93.943%\n",
      "Epoch : 0 [19200/48000 (40%)]\tLoss: 0.031651\t Accuracy:94.669%\n",
      "Epoch : 0 [22400/48000 (47%)]\tLoss: 0.003253\t Accuracy:95.272%\n",
      "Epoch : 0 [25600/48000 (53%)]\tLoss: 0.050199\t Accuracy:95.687%\n",
      "Epoch : 0 [28800/48000 (60%)]\tLoss: 0.038582\t Accuracy:96.044%\n",
      "Epoch : 0 [32000/48000 (67%)]\tLoss: 0.027412\t Accuracy:96.367%\n",
      "Epoch : 0 [35200/48000 (73%)]\tLoss: 0.002585\t Accuracy:96.614%\n",
      "Epoch : 0 [38400/48000 (80%)]\tLoss: 0.019685\t Accuracy:96.802%\n",
      "Epoch : 0 [41600/48000 (87%)]\tLoss: 0.102819\t Accuracy:96.966%\n",
      "Epoch : 0 [44800/48000 (93%)]\tLoss: 0.005966\t Accuracy:97.093%\n",
      "Epoch : 1 [0/48000 (0%)]\tLoss: 0.064155\t Accuracy:98.438%\n",
      "Epoch : 1 [3200/48000 (7%)]\tLoss: 0.009941\t Accuracy:99.050%\n",
      "Epoch : 1 [6400/48000 (13%)]\tLoss: 0.013454\t Accuracy:99.103%\n",
      "Epoch : 1 [9600/48000 (20%)]\tLoss: 0.041476\t Accuracy:99.214%\n",
      "Epoch : 1 [12800/48000 (27%)]\tLoss: 0.005262\t Accuracy:99.300%\n",
      "Epoch : 1 [16000/48000 (33%)]\tLoss: 0.006225\t Accuracy:99.309%\n",
      "Epoch : 1 [19200/48000 (40%)]\tLoss: 0.016278\t Accuracy:99.278%\n",
      "Epoch : 1 [22400/48000 (47%)]\tLoss: 0.000857\t Accuracy:99.306%\n",
      "Epoch : 1 [25600/48000 (53%)]\tLoss: 0.014082\t Accuracy:99.314%\n",
      "Epoch : 1 [28800/48000 (60%)]\tLoss: 0.046055\t Accuracy:99.338%\n",
      "Epoch : 1 [32000/48000 (67%)]\tLoss: 0.018076\t Accuracy:99.354%\n",
      "Epoch : 1 [35200/48000 (73%)]\tLoss: 0.000436\t Accuracy:99.393%\n",
      "Epoch : 1 [38400/48000 (80%)]\tLoss: 0.004112\t Accuracy:99.389%\n",
      "Epoch : 1 [41600/48000 (87%)]\tLoss: 0.081264\t Accuracy:99.371%\n",
      "Epoch : 1 [44800/48000 (93%)]\tLoss: 0.001213\t Accuracy:99.374%\n",
      "Epoch : 2 [0/48000 (0%)]\tLoss: 0.018129\t Accuracy:98.438%\n",
      "Epoch : 2 [3200/48000 (7%)]\tLoss: 0.002939\t Accuracy:99.295%\n",
      "Epoch : 2 [6400/48000 (13%)]\tLoss: 0.007866\t Accuracy:99.304%\n",
      "Epoch : 2 [9600/48000 (20%)]\tLoss: 0.013570\t Accuracy:99.431%\n",
      "Epoch : 2 [12800/48000 (27%)]\tLoss: 0.000819\t Accuracy:99.487%\n",
      "Epoch : 2 [16000/48000 (33%)]\tLoss: 0.001982\t Accuracy:99.496%\n",
      "Epoch : 2 [19200/48000 (40%)]\tLoss: 0.013817\t Accuracy:99.481%\n",
      "Epoch : 2 [22400/48000 (47%)]\tLoss: 0.000160\t Accuracy:99.519%\n",
      "Epoch : 2 [25600/48000 (53%)]\tLoss: 0.007466\t Accuracy:99.532%\n",
      "Epoch : 2 [28800/48000 (60%)]\tLoss: 0.044165\t Accuracy:99.525%\n",
      "Epoch : 2 [32000/48000 (67%)]\tLoss: 0.003719\t Accuracy:99.548%\n",
      "Epoch : 2 [35200/48000 (73%)]\tLoss: 0.000205\t Accuracy:99.575%\n",
      "Epoch : 2 [38400/48000 (80%)]\tLoss: 0.001303\t Accuracy:99.584%\n",
      "Epoch : 2 [41600/48000 (87%)]\tLoss: 0.061638\t Accuracy:99.580%\n",
      "Epoch : 2 [44800/48000 (93%)]\tLoss: 0.000415\t Accuracy:99.585%\n",
      "Epoch : 3 [0/48000 (0%)]\tLoss: 0.003830\t Accuracy:100.000%\n",
      "Epoch : 3 [3200/48000 (7%)]\tLoss: 0.001701\t Accuracy:99.295%\n",
      "Epoch : 3 [6400/48000 (13%)]\tLoss: 0.002611\t Accuracy:99.381%\n",
      "Epoch : 3 [9600/48000 (20%)]\tLoss: 0.017398\t Accuracy:99.514%\n",
      "Epoch : 3 [12800/48000 (27%)]\tLoss: 0.000250\t Accuracy:99.604%\n",
      "Epoch : 3 [16000/48000 (33%)]\tLoss: 0.000703\t Accuracy:99.589%\n",
      "Epoch : 3 [19200/48000 (40%)]\tLoss: 0.010396\t Accuracy:99.564%\n",
      "Epoch : 3 [22400/48000 (47%)]\tLoss: 0.000055\t Accuracy:99.595%\n",
      "Epoch : 3 [25600/48000 (53%)]\tLoss: 0.010101\t Accuracy:99.606%\n",
      "Epoch : 3 [28800/48000 (60%)]\tLoss: 0.015476\t Accuracy:99.605%\n",
      "Epoch : 3 [32000/48000 (67%)]\tLoss: 0.001028\t Accuracy:99.620%\n",
      "Epoch : 3 [35200/48000 (73%)]\tLoss: 0.000147\t Accuracy:99.643%\n",
      "Epoch : 3 [38400/48000 (80%)]\tLoss: 0.000776\t Accuracy:99.649%\n",
      "Epoch : 3 [41600/48000 (87%)]\tLoss: 0.052733\t Accuracy:99.657%\n",
      "Epoch : 3 [44800/48000 (93%)]\tLoss: 0.000996\t Accuracy:99.663%\n",
      "Epoch : 4 [0/48000 (0%)]\tLoss: 0.010476\t Accuracy:98.438%\n",
      "Epoch : 4 [3200/48000 (7%)]\tLoss: 0.002785\t Accuracy:99.295%\n",
      "Epoch : 4 [6400/48000 (13%)]\tLoss: 0.000435\t Accuracy:99.428%\n",
      "Epoch : 4 [9600/48000 (20%)]\tLoss: 0.014571\t Accuracy:99.555%\n",
      "Epoch : 4 [12800/48000 (27%)]\tLoss: 0.000358\t Accuracy:99.642%\n",
      "Epoch : 4 [16000/48000 (33%)]\tLoss: 0.000237\t Accuracy:99.670%\n",
      "Epoch : 4 [19200/48000 (40%)]\tLoss: 0.011499\t Accuracy:99.668%\n",
      "Epoch : 4 [22400/48000 (47%)]\tLoss: 0.000052\t Accuracy:99.702%\n",
      "Epoch : 4 [25600/48000 (53%)]\tLoss: 0.001460\t Accuracy:99.716%\n",
      "Epoch : 4 [28800/48000 (60%)]\tLoss: 0.002618\t Accuracy:99.709%\n",
      "Epoch : 4 [32000/48000 (67%)]\tLoss: 0.000303\t Accuracy:99.716%\n",
      "Epoch : 4 [35200/48000 (73%)]\tLoss: 0.000127\t Accuracy:99.731%\n",
      "Epoch : 4 [38400/48000 (80%)]\tLoss: 0.001767\t Accuracy:99.724%\n",
      "Epoch : 4 [41600/48000 (87%)]\tLoss: 0.040307\t Accuracy:99.734%\n",
      "Epoch : 4 [44800/48000 (93%)]\tLoss: 0.004233\t Accuracy:99.739%\n"
     ]
    }
   ],
   "source": [
    "def fit(model, train_loader,learning_rate=0.001):\n",
    "    optimizer = Adam(model.parameters(),lr=learning_rate)\n",
    "    error = nn.BCEWithLogitsLoss()\n",
    "    EPOCHS = 5\n",
    "    predictions = []\n",
    "    model.train()\n",
    "    for epoch in range(EPOCHS):\n",
    "        correct = 0\n",
    "        for batch_idx, (X_batch, y_batch) in enumerate(train_loader):\n",
    "            var_X_batch = Variable(X_batch).float()\n",
    "            var_y_batch = Variable(y_batch)\n",
    "            optimizer.zero_grad()\n",
    "            output = model(var_X_batch)\n",
    "            loss = error(output, var_y_batch)\n",
    "            loss.backward()\n",
    "            optimizer.step()\n",
    "\n",
    "            y_pred,y_true = accuracy(output.data,var_y_batch)\n",
    "            predictions.extend(y_pred)\n",
    "            correct += (output.data == var_y_batch).sum()\n",
    "            if batch_idx % 50 == 0:\n",
    "                print('Epoch : {} [{}/{} ({:.0f}%)]\\tLoss: {:.6f}\\t Accuracy:{:.3f}%'.format(\n",
    "                    epoch, batch_idx*len(X_batch), len(train_loader.dataset), 100.*batch_idx / len(train_loader), loss.data.item(), float(correct*100) / float(BATCH_SIZE*(batch_idx+1))))\n",
    "fit(model, train_loader)"
   ]
  },
  {
   "cell_type": "code",
   "execution_count": 11,
   "metadata": {},
   "outputs": [
    {
     "name": "stdout",
     "output_type": "stream",
     "text": [
      "Epoch : 0 [0/12000 (0%)]\tLoss: 0.059561\t Accuracy:98.438%\n",
      "Epoch : 0 [3200/12000 (27%)]\tLoss: 0.000492\t Accuracy:99.540%\n",
      "Epoch : 0 [6400/12000 (53%)]\tLoss: 0.001770\t Accuracy:99.613%\n",
      "Epoch : 0 [9600/12000 (80%)]\tLoss: 0.016674\t Accuracy:99.638%\n",
      "Epoch : 1 [0/12000 (0%)]\tLoss: 0.020312\t Accuracy:100.000%\n",
      "Epoch : 1 [3200/12000 (27%)]\tLoss: 0.000561\t Accuracy:99.786%\n",
      "Epoch : 1 [6400/12000 (53%)]\tLoss: 0.001089\t Accuracy:99.737%\n",
      "Epoch : 1 [9600/12000 (80%)]\tLoss: 0.002166\t Accuracy:99.762%\n",
      "Epoch : 2 [0/12000 (0%)]\tLoss: 0.016146\t Accuracy:98.438%\n",
      "Epoch : 2 [3200/12000 (27%)]\tLoss: 0.001253\t Accuracy:99.816%\n",
      "Epoch : 2 [6400/12000 (53%)]\tLoss: 0.001416\t Accuracy:99.783%\n",
      "Epoch : 2 [9600/12000 (80%)]\tLoss: 0.001637\t Accuracy:99.814%\n",
      "Epoch : 3 [0/12000 (0%)]\tLoss: 0.008504\t Accuracy:100.000%\n",
      "Epoch : 3 [3200/12000 (27%)]\tLoss: 0.000157\t Accuracy:99.877%\n",
      "Epoch : 3 [6400/12000 (53%)]\tLoss: 0.000318\t Accuracy:99.876%\n",
      "Epoch : 3 [9600/12000 (80%)]\tLoss: 0.000288\t Accuracy:99.897%\n",
      "Epoch : 4 [0/12000 (0%)]\tLoss: 0.002531\t Accuracy:100.000%\n",
      "Epoch : 4 [3200/12000 (27%)]\tLoss: 0.000029\t Accuracy:99.908%\n",
      "Epoch : 4 [6400/12000 (53%)]\tLoss: 0.000232\t Accuracy:99.892%\n",
      "Epoch : 4 [9600/12000 (80%)]\tLoss: 0.000067\t Accuracy:99.928%\n"
     ]
    }
   ],
   "source": [
    "pred = fit(model,test_loader)"
   ]
  },
  {
   "cell_type": "code",
   "execution_count": null,
   "metadata": {},
   "outputs": [],
   "source": []
  },
  {
   "cell_type": "code",
   "execution_count": null,
   "metadata": {},
   "outputs": [],
   "source": []
  },
  {
   "cell_type": "code",
   "execution_count": null,
   "metadata": {},
   "outputs": [],
   "source": []
  }
 ],
 "metadata": {
  "kernelspec": {
   "display_name": "Python 3 (ipykernel)",
   "language": "python",
   "name": "python3"
  },
  "language_info": {
   "codemirror_mode": {
    "name": "ipython",
    "version": 3
   },
   "file_extension": ".py",
   "mimetype": "text/x-python",
   "name": "python",
   "nbconvert_exporter": "python",
   "pygments_lexer": "ipython3",
   "version": "3.11.5"
  }
 },
 "nbformat": 4,
 "nbformat_minor": 4
}
